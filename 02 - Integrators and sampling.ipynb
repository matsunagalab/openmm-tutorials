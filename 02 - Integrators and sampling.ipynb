{
 "cells": [
  {
   "cell_type": "markdown",
   "metadata": {},
   "source": [
    "# Integrators and sampling"
   ]
  },
  {
   "cell_type": "code",
   "execution_count": 1,
   "metadata": {},
   "outputs": [],
   "source": [
    "# Preliminary imports\n",
    "from simtk import openmm, unit\n",
    "from simtk.openmm import app\n",
    "import numpy as np"
   ]
  },
  {
   "cell_type": "markdown",
   "metadata": {},
   "source": [
    "To explore the integrators available for sampling in OpenMM, we'll use the alanine dipeptide in vacuum test system imported from [`openmmtools`](http://openmmtools.readthedocs.io):"
   ]
  },
  {
   "cell_type": "code",
   "execution_count": 2,
   "metadata": {},
   "outputs": [
    {
     "name": "stdout",
     "output_type": "stream",
     "text": [
      "Potential energy: -137.4394352560201 kJ/mol\n"
     ]
    }
   ],
   "source": [
    "# Load in an AMBER system\n",
    "from simtk.openmm import app\n",
    "pdb = app.PDBFile('resources/alanine-dipeptide-implicit.pdb')\n",
    "prmtop = app.AmberPrmtopFile('resources/alanine-dipeptide-implicit.prmtop')\n",
    "inpcrd = app.AmberInpcrdFile('resources/alanine-dipeptide-implicit.inpcrd')\n",
    "system = prmtop.createSystem(nonbondedMethod=app.NoCutoff, implicitSolvent=app.OBC2, constraints=app.HBonds)\n",
    "positions = inpcrd.getPositions(asNumpy=True)\n",
    "topology = pdb.getTopology()\n",
    "\n",
    "# Compute the potential energy\n",
    "def compute_potential(system, positions):\n",
    "    \"\"\"Print the potential energy given a System and positions.\"\"\"\n",
    "    integrator = openmm.VerletIntegrator(1.0 * unit.femtoseconds)\n",
    "    context = openmm.Context(system, integrator)\n",
    "    context.setPositions(positions)\n",
    "    print('Potential energy: %s' % context.getState(getEnergy=True).getPotentialEnergy())\n",
    "    # Clean up\n",
    "    del context, integrator\n",
    "    \n",
    "compute_potential(system, positions)"
   ]
  },
  {
   "cell_type": "markdown",
   "metadata": {},
   "source": [
    "## Integrators available for use\n",
    "\n",
    "There are several ways to specify which integrators to use for sampling:\n",
    "* Use one of the [built-in OpenMM integrators](http://docs.openmm.org/7.1.0/api-python/library.html#integrators)\n",
    "* Use the powerful [`CustomIntegrator`](http://docs.openmm.org/7.1.0/api-python/generated/simtk.openmm.openmm.CustomIntegrator.html#simtk.openmm.openmm.CustomIntegrator) facility to define your own integrator in terms of basic algebraic operations on positions and velocities\n",
    "* Use one of the high-quality integrators from [`openmmtools.integrators`](http://openmmtools.readthedocs.io/en/latest/integrators.html)\n",
    "* Write your own integrator plugin using C++ (and CUDA or OpenCL)"
   ]
  },
  {
   "cell_type": "markdown",
   "metadata": {},
   "source": [
    "## Built-in OpenMM integrators\n",
    "\n",
    "OpenMM provides a number of built-in [`Integrators`](http://docs.openmm.org/7.1.0/userguide/application.html#integrators) that may be useful for your intended application, but also provides a very flexible way to efficiently define new integrators that can still be executed very efficiently on the GPU.\n",
    "\n",
    "All OpenMM integrators are derived from the [`Integrator`](http://docs.openmm.org/7.1.0/api-python/generated/simtk.openmm.openmm.Integrator.html#simtk.openmm.openmm.Integrator) base class that provides some baseline functionality such that all integrators work the same way. \n",
    "\n",
    "OpenMM provides a [large number of integrators you can use directly](http://docs.openmm.org/7.1.0/api-python/library.html#integrators). Here are just a few of them:\n",
    "* [`VerletIntegrator`](http://docs.openmm.org/7.1.0/api-python/generated/simtk.openmm.openmm.VerletIntegrator.html#simtk.openmm.openmm.VerletIntegrator): A leapfrog Verlet integrator where the positions and velocities are half a timestep out of sync. This is useful in many situations, but care must be taken regarding the half timestep lag.\n",
    "* [`LangevinIntegrator`](http://docs.openmm.org/7.1.0/api-python/generated/simtk.openmm.openmm.LangevinIntegrator.html#simtk.openmm.openmm.LangevinIntegrator): A [leapfrog Langevin](https://github.com/pandegroup/openmm/issues/1766#issuecomment-289615072) / [VVVR](http://dx.doi.org/10.1103/PhysRevX.3.011007) / [Bussi-Parrinello](10.1103/PhysRevE.75.056707) Langevin integrator where the velocity is shifted from the positions by half a timestep.\n",
    "* [`MTSIntegrator`](http://docs.openmm.org/7.1.0/api-python/generated/simtk.openmm.mtsintegrator.MTSIntegrator.html#simtk.openmm.mtsintegrator.MTSIntegrator): A multiple-timestep integrator following [rRESPA from Tuckerman and Berne](http://dx.doi.org/10.1063/1.463137).\n",
    "* [`AMDIntegrator`](http://docs.openmm.org/7.1.0/api-python/generated/simtk.openmm.amd.AMDIntegrator.html#simtk.openmm.amd.AMDIntegrator): An integrator that implements the [accelerated MD algorithm of McCammon](https://doi.org/10.1063/1.2789432), though care must be taken in noting the potential energy reported is not actually modified.\n",
    "* Experimental variable-timestep integrators [`VariableVerletIntegrator`](http://docs.openmm.org/7.1.0/api-python/generated/simtk.openmm.openmm.VariableVerletIntegrator.html#simtk.openmm.openmm.VariableVerletIntegrator) and [`VariableLangevinIntegrator`](http://docs.openmm.org/7.1.0/api-python/generated/simtk.openmm.openmm.VariableLangevinIntegrator.html#simtk.openmm.openmm.VariableLangevinIntegrator) that should be used cautiously since they are no longer sympletic, but may be useful when forces are very large."
   ]
  },
  {
   "cell_type": "markdown",
   "metadata": {},
   "source": [
    "### OpenMM's `LangevinIntegrator`\n",
    "\n",
    "Let's create a [`LangevinIntegrator`](http://docs.openmm.org/7.1.0/api-python/generated/simtk.openmm.openmm.LangevinIntegrator.html#simtk.openmm.openmm.LangevinIntegrator), which uses a version of [velocity Verlet with velocity randomization (VVVR)](http://dx.doi.org/10.1103/PhysRevX.3.011007), also known as the [Bussi-Parrinello Langevin integrator](10.1103/PhysRevE.75.056707), where the velocity is shifted from the positions by half a timestep.\n",
    "\n",
    "We first have to create a [`LangevinIntegrator`](http://docs.openmm.org/7.1.0/api-python/library.html#integrators) and bind it to a [`Context`](http://docs.openmm.org/7.1.0/api-python/generated/simtk.openmm.openmm.Context.html#simtk.openmm.openmm.Context). "
   ]
  },
  {
   "cell_type": "code",
   "execution_count": 3,
   "metadata": {},
   "outputs": [],
   "source": [
    "# Create a new integrator since the previously-created integrator was irrevocably bound to the previous Context\n",
    "temperature = 298.0 * unit.kelvin\n",
    "collision_rate = 91.0 / unit.picosecond\n",
    "timestep = 2.0 * unit.femtoseconds\n",
    "integrator = openmm.LangevinIntegrator(temperature, collision_rate, timestep)\n",
    "# Create a Context for this integrator\n",
    "context = openmm.Context(system, integrator)\n",
    "# Set the positions\n",
    "context.setPositions(positions)\n",
    "# Minimize the potential energy\n",
    "openmm.LocalEnergyMinimizer.minimize(context)"
   ]
  },
  {
   "cell_type": "markdown",
   "metadata": {},
   "source": [
    "The initial velocities are, by default, zero, but we can select initial velocities from the Maxwell distribution with [`context.setVelocitiesToTemperature()`](http://docs.openmm.org/7.1.0/api-python/generated/simtk.openmm.openmm.Context.html#simtk.openmm.openmm.Context.setVelocitiesToTemperature):"
   ]
  },
  {
   "cell_type": "code",
   "execution_count": 4,
   "metadata": {},
   "outputs": [],
   "source": [
    "# Set velocities from Maxwell-Boltzmann distribution\n",
    "context.setVelocitiesToTemperature(temperature)"
   ]
  },
  {
   "cell_type": "markdown",
   "metadata": {},
   "source": [
    "To integrate a trajectory, we call [`integrator.step`](http://docs.openmm.org/7.1.0/api-python/generated/simtk.openmm.openmm.Integrator.html#simtk.openmm.openmm.Integrator.step):"
   ]
  },
  {
   "cell_type": "code",
   "execution_count": 5,
   "metadata": {},
   "outputs": [],
   "source": [
    "# Integrate some dynamics\n",
    "nsteps = 100 # number of integrator steps\n",
    "integrator.step(nsteps)"
   ]
  },
  {
   "cell_type": "markdown",
   "metadata": {},
   "source": [
    "We can write a little loop to report some information every few timesteps:"
   ]
  },
  {
   "cell_type": "code",
   "execution_count": 6,
   "metadata": {},
   "outputs": [
    {
     "name": "stdout",
     "output_type": "stream",
     "text": [
      "   0.400 ps : potential  -131.806771 kJ/mol\n",
      "   0.600 ps : potential  -111.863356 kJ/mol\n",
      "   0.800 ps : potential   -92.643765 kJ/mol\n",
      "   1.000 ps : potential  -123.776344 kJ/mol\n",
      "   1.200 ps : potential  -117.666694 kJ/mol\n",
      "   1.400 ps : potential  -122.445981 kJ/mol\n",
      "   1.600 ps : potential  -121.708050 kJ/mol\n",
      "   1.800 ps : potential  -110.365573 kJ/mol\n",
      "   2.000 ps : potential   -94.195386 kJ/mol\n",
      "   2.200 ps : potential   -96.800356 kJ/mol\n"
     ]
    }
   ],
   "source": [
    "# Run a few iterations of a few steps each, reporting potential energy\n",
    "for iteration in range(10):\n",
    "    integrator.step(100)\n",
    "    state = context.getState(getEnergy=True)\n",
    "    print('%8.3f ps : potential %12.6f kJ/mol' % (state.getTime() / unit.picoseconds, state.getPotentialEnergy() / unit.kilojoules_per_mole))"
   ]
  },
  {
   "cell_type": "markdown",
   "metadata": {},
   "source": [
    "## The `Simulation` convenience class\n",
    "\n",
    "While we could write our own wrapper to run a simulation and write data to disk, OpenMM's [`app` layer](http://docs.openmm.org/7.1.0/api-python/app.html) provides the [`Simulation` class](http://docs.openmm.org/7.1.0/api-python/generated/simtk.openmm.app.simulation.Simulation.html#simtk.openmm.app.simulation.Simulation) to help you do this using a modular Python-based plugin architecture to specify which and how data should be stored. The [user guide](http://docs.openmm.org/7.1.0/userguide/application.html#a-first-example) provides a nice overview of this.\n",
    "\n",
    "### Running a `Simulation` that writes data to the terminal\n",
    "\n",
    "For example, to run a simulation that prints data to the terminal, we can use:"
   ]
  },
  {
   "cell_type": "code",
   "execution_count": 7,
   "metadata": {},
   "outputs": [
    {
     "name": "stdout",
     "output_type": "stream",
     "text": [
      "#\"Step\",\"Potential Energy (kJ/mole)\",\"Temperature (K)\"\n",
      "100,-114.42471549690138,221.37050469713836\n",
      "200,-103.20719201083,254.81766233549368\n",
      "300,-118.09064566365304,309.0930921889871\n",
      "400,-93.2987613880557,237.69745442208156\n",
      "500,-117.24882573340804,288.80034436587334\n",
      "600,-97.29203455519932,365.6957345976407\n",
      "700,-105.15449187321819,302.16964000449804\n",
      "800,-111.00359316523141,332.42557584314795\n",
      "900,-95.51387774166336,273.07480002136003\n",
      "1000,-117.1708525191791,233.73798637207642\n"
     ]
    }
   ],
   "source": [
    "from sys import stdout\n",
    "integrator = openmm.LangevinIntegrator(temperature, collision_rate, timestep)\n",
    "simulation = app.Simulation(topology, system, integrator)\n",
    "simulation.context.setPositions(positions)\n",
    "simulation.minimizeEnergy()\n",
    "simulation.reporters.append(app.StateDataReporter(stdout, 100, step=True, potentialEnergy=True, temperature=True))\n",
    "simulation.step(1000)"
   ]
  },
  {
   "cell_type": "markdown",
   "metadata": {},
   "source": [
    "### Running a `Simulation` that writes a trajectory to disk\n",
    "\n",
    "For example, to run a simulation that writes data in the extensible MDTraj HDF5 format, Amber NetCDF format, or CHARMM DCD format, we can use the [MDTraj Reporters](http://mdtraj.org/1.6.2/api/reporters.html):"
   ]
  },
  {
   "cell_type": "code",
   "execution_count": 8,
   "metadata": {},
   "outputs": [
    {
     "name": "stderr",
     "output_type": "stream",
     "text": [
      "/opt/conda/lib/python3.7/site-packages/mdtraj/utils/validation.py:116: TypeCastPerformanceWarning: Casting xyz dtype=float64 to <class 'numpy.float32'> \n",
      "  TypeCastPerformanceWarning)\n"
     ]
    }
   ],
   "source": [
    "import mdtraj\n",
    "integrator = openmm.LangevinIntegrator(temperature, collision_rate, timestep)\n",
    "simulation = app.Simulation(topology, system, integrator)\n",
    "simulation.context.setPositions(positions)\n",
    "simulation.minimizeEnergy()\n",
    "reportInterval = 10\n",
    "simulation.reporters.append(mdtraj.reporters.HDF5Reporter('output.h5', reportInterval, coordinates=True, time=True, cell=True, potentialEnergy=True, temperature=True))\n",
    "simulation.reporters.append(mdtraj.reporters.DCDReporter('output.dcd', reportInterval))\n",
    "simulation.reporters.append(mdtraj.reporters.NetCDFReporter('output.nc', reportInterval))\n",
    "simulation.step(2000)\n",
    "del simulation # Make sure to close all files"
   ]
  },
  {
   "cell_type": "markdown",
   "metadata": {},
   "source": [
    "We can easily view a trajectory in MDTraj."
   ]
  },
  {
   "cell_type": "code",
   "execution_count": 9,
   "metadata": {},
   "outputs": [
    {
     "data": {
      "application/vnd.jupyter.widget-view+json": {
       "model_id": "55d7e464117146b68ec8d95b64949ea4",
       "version_major": 2,
       "version_minor": 0
      },
      "text/plain": [
       "_ColormakerRegistry()"
      ]
     },
     "metadata": {},
     "output_type": "display_data"
    },
    {
     "data": {
      "application/vnd.jupyter.widget-view+json": {
       "model_id": "bac9a9d64b864a99bc0bcdba6b7618b8",
       "version_major": 2,
       "version_minor": 0
      },
      "text/plain": [
       "NGLWidget(max_frame=199)"
      ]
     },
     "metadata": {},
     "output_type": "display_data"
    }
   ],
   "source": [
    "traj = mdtraj.load('output.h5', 'r')\n",
    "import nglview\n",
    "view = nglview.show_mdtraj(traj)\n",
    "view.add_ball_and_stick('all')\n",
    "view.center(zoom=True)\n",
    "view"
   ]
  },
  {
   "cell_type": "code",
   "execution_count": null,
   "metadata": {},
   "outputs": [],
   "source": []
  }
 ],
 "metadata": {
  "kernelspec": {
   "display_name": "Python 3",
   "language": "python",
   "name": "python3"
  },
  "language_info": {
   "codemirror_mode": {
    "name": "ipython",
    "version": 3
   },
   "file_extension": ".py",
   "mimetype": "text/x-python",
   "name": "python",
   "nbconvert_exporter": "python",
   "pygments_lexer": "ipython3",
   "version": "3.7.6"
  }
 },
 "nbformat": 4,
 "nbformat_minor": 4
}
